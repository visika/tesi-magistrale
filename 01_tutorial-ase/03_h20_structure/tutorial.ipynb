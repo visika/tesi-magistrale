{
 "cells": [
  {
   "cell_type": "markdown",
   "id": "c9d50b5a-3f91-478b-8907-d531de82fb35",
   "metadata": {},
   "source": [
    "https://wiki.fysik.dtu.dk/ase/gettingstarted/tut02_h2o_structure/h2o.html"
   ]
  },
  {
   "cell_type": "code",
   "execution_count": 9,
   "id": "082fe9b2-4089-4b8e-9893-06bbd0fed99e",
   "metadata": {},
   "outputs": [],
   "source": [
    "from ase import Atoms\n",
    "from ase.visualize import view"
   ]
  },
  {
   "cell_type": "code",
   "execution_count": 10,
   "id": "3d08775e-01e9-4e11-9edf-7c184af53187",
   "metadata": {},
   "outputs": [
    {
     "data": {
      "text/plain": [
       "<Popen: returncode: None args: ['/home/mariano/Progetti/tesi-magistrale/.ven...>"
      ]
     },
     "execution_count": 10,
     "metadata": {},
     "output_type": "execute_result"
    }
   ],
   "source": [
    "atoms = Atoms(\n",
    "    \"OH2\",\n",
    "    positions=[\n",
    "        [0., 0., 0.],\n",
    "        [0., 1., 0.],\n",
    "        [1., 0., 0.]\n",
    "    ]\n",
    ")\n",
    "\n",
    "view(atoms)"
   ]
  },
  {
   "cell_type": "code",
   "execution_count": 11,
   "id": "eefb0a8c-6f8b-4cb1-8d04-4d29e9e7c8f4",
   "metadata": {},
   "outputs": [
    {
     "data": {
      "text/plain": [
       "<Popen: returncode: None args: ['/home/mariano/Progetti/tesi-magistrale/.ven...>"
      ]
     },
     "execution_count": 11,
     "metadata": {},
     "output_type": "execute_result"
    }
   ],
   "source": [
    "from gpaw import GPAW\n",
    "\n",
    "from ase import Atoms\n",
    "from ase.optimize import BFGS\n",
    "\n",
    "atoms = Atoms(\n",
    "    \"HOH\",\n",
    "    positions=[\n",
    "        [0,0,-1],\n",
    "        [0,1,0],\n",
    "        [0,0,1]\n",
    "    ]\n",
    ")\n",
    "\n",
    "atoms.center(vacuum=3.0)\n",
    "view(atoms)"
   ]
  },
  {
   "cell_type": "code",
   "execution_count": 12,
   "id": "05852ccc-4443-47c6-805c-f80f51f74f44",
   "metadata": {},
   "outputs": [],
   "source": [
    "calc = GPAW(mode=\"lcao\", basis=\"dzp\", txt=\"gpaw.txt\")\n",
    "atoms.calc = calc"
   ]
  },
  {
   "cell_type": "code",
   "execution_count": 13,
   "id": "7e96de3a-272b-4399-b12a-688c5d3fff75",
   "metadata": {
    "scrolled": true
   },
   "outputs": [
    {
     "name": "stdout",
     "output_type": "stream",
     "text": [
      "      Step     Time          Energy         fmax\n",
      "BFGS:    0 21:27:19      -10.124505        7.8000\n",
      "BFGS:    1 21:27:21      -11.815840        6.8205\n",
      "BFGS:    2 21:27:23      -13.695529        1.0321\n",
      "BFGS:    3 21:27:24      -13.719134        0.8539\n",
      "BFGS:    4 21:27:25      -13.765217        0.3882\n",
      "BFGS:    5 21:27:26      -13.769477        0.0366\n"
     ]
    },
    {
     "data": {
      "text/plain": [
       "True"
      ]
     },
     "execution_count": 13,
     "metadata": {},
     "output_type": "execute_result"
    }
   ],
   "source": [
    "opt = BFGS(atoms, trajectory=\"opt.traj\")\n",
    "opt.run(fmax=0.05)"
   ]
  },
  {
   "cell_type": "code",
   "execution_count": 14,
   "id": "50c280b7-8c8d-46ab-8d3c-d1db62385405",
   "metadata": {
    "scrolled": true
   },
   "outputs": [
    {
     "data": {
      "text/plain": [
       "<Popen: returncode: None args: ['/home/mariano/Progetti/tesi-magistrale/.ven...>"
      ]
     },
     "execution_count": 14,
     "metadata": {},
     "output_type": "execute_result"
    }
   ],
   "source": [
    "view(atoms)"
   ]
  },
  {
   "cell_type": "markdown",
   "id": "3a91e403-a34d-46a7-a920-16d0b4b2175a",
   "metadata": {},
   "source": [
    "## Optimizers"
   ]
  },
  {
   "cell_type": "code",
   "execution_count": 17,
   "id": "601f25b6-3a30-47ef-8769-5e612587c810",
   "metadata": {
    "scrolled": true
   },
   "outputs": [
    {
     "name": "stdout",
     "output_type": "stream",
     "text": [
      "Traceback (most recent call last):\n",
      "  File \"<frozen runpy>\", line 198, in _run_module_as_main\n",
      "  File \"<frozen runpy>\", line 88, in _run_code\n",
      "  File \"/home/mariano/Progetti/tesi-magistrale/.venv/lib/python3.11/site-packages/ase/gui/pipe.py\", line 32, in <module>\n",
      "    main()\n",
      "  File \"/home/mariano/Progetti/tesi-magistrale/.venv/lib/python3.11/site-packages/ase/gui/pipe.py\", line 28, in main\n",
      "    plt.show()\n",
      "  File \"/home/mariano/Progetti/tesi-magistrale/.venv/lib/python3.11/site-packages/matplotlib/pyplot.py\", line 527, in show\n",
      "    return _get_backend_mod().show(*args, **kwargs)\n",
      "           ^^^^^^^^^^^^^^^^^^^^^^^^^^^^^^^^^^^^^^^^\n",
      "  File \"/home/mariano/Progetti/tesi-magistrale/.venv/lib/python3.11/site-packages/matplotlib_inline/backend_inline.py\", line 90, in show\n",
      "    display(\n",
      "  File \"/home/mariano/Progetti/tesi-magistrale/.venv/lib/python3.11/site-packages/IPython/core/display_functions.py\", line 265, in display\n",
      "    print(*objs)\n",
      "ValueError: I/O operation on closed file.\n",
      "Traceback (most recent call last):\n",
      "  File \"<frozen runpy>\", line 198, in _run_module_as_main\n",
      "  File \"<frozen runpy>\", line 88, in _run_code\n",
      "  File \"/home/mariano/Progetti/tesi-magistrale/.venv/lib/python3.11/site-packages/ase/gui/pipe.py\", line 32, in <module>\n",
      "    main()\n",
      "  File \"/home/mariano/Progetti/tesi-magistrale/.venv/lib/python3.11/site-packages/ase/gui/pipe.py\", line 28, in main\n",
      "    plt.show()\n",
      "  File \"/home/mariano/Progetti/tesi-magistrale/.venv/lib/python3.11/site-packages/matplotlib/pyplot.py\", line 527, in show\n",
      "    return _get_backend_mod().show(*args, **kwargs)\n",
      "           ^^^^^^^^^^^^^^^^^^^^^^^^^^^^^^^^^^^^^^^^\n",
      "  File \"/home/mariano/Progetti/tesi-magistrale/.venv/lib/python3.11/site-packages/matplotlib_inline/backend_inline.py\", line 90, in show\n",
      "    display(\n",
      "  File \"/home/mariano/Progetti/tesi-magistrale/.venv/lib/python3.11/site-packages/IPython/core/display_functions.py\", line 265, in display\n",
      "    print(*objs)\n",
      "ValueError: I/O operation on closed file.\n"
     ]
    }
   ],
   "source": [
    "!ase gui \"opt.traj\""
   ]
  },
  {
   "cell_type": "code",
   "execution_count": 18,
   "id": "945e8b69-c0e0-41e3-89d3-d2631aadad3a",
   "metadata": {},
   "outputs": [
    {
     "data": {
      "text/plain": [
       "True"
      ]
     },
     "execution_count": 18,
     "metadata": {},
     "output_type": "execute_result"
    }
   ],
   "source": [
    "from ase.optimize import BFGS\n",
    "opt = BFGS(atoms, trajectory=\"opt.traj\", logfile=\"opt.log\")\n",
    "opt.run(fmax=0.05)"
   ]
  },
  {
   "cell_type": "code",
   "execution_count": 19,
   "id": "094646a5-723c-4e38-87b7-8541d50ea11d",
   "metadata": {},
   "outputs": [],
   "source": [
    "from ase.io import read\n",
    "atoms = read(\"opt.traj\")"
   ]
  },
  {
   "cell_type": "code",
   "execution_count": 20,
   "id": "298d9043-5dc7-4151-8f11-41fc7de94133",
   "metadata": {},
   "outputs": [
    {
     "name": "stdout",
     "output_type": "stream",
     "text": [
      "103.38574879925422\n"
     ]
    }
   ],
   "source": [
    "print(atoms.get_angle(0, 1, 2))"
   ]
  },
  {
   "cell_type": "code",
   "execution_count": 21,
   "id": "6581db80-d7af-4e49-a1c9-cac5b0dc167c",
   "metadata": {},
   "outputs": [
    {
     "name": "stdout",
     "output_type": "stream",
     "text": [
      "38.30712560037286\n"
     ]
    }
   ],
   "source": [
    "print(atoms.get_angle(2, 0, 1))"
   ]
  },
  {
   "cell_type": "code",
   "execution_count": 23,
   "id": "0d518b65-6094-47f5-a857-dae90a22d124",
   "metadata": {},
   "outputs": [
    {
     "name": "stdout",
     "output_type": "stream",
     "text": [
      "38.307125600372906\n"
     ]
    }
   ],
   "source": [
    "print(atoms.get_angle(1, 2, 0))"
   ]
  },
  {
   "cell_type": "markdown",
   "id": "6bc835ae-c124-48c6-ac65-d0660d0ba852",
   "metadata": {},
   "source": [
    "## G2 molecule dataset"
   ]
  },
  {
   "cell_type": "code",
   "execution_count": 24,
   "id": "ce6c4c82-6461-47d0-b6f1-8932e0b2e281",
   "metadata": {},
   "outputs": [],
   "source": [
    "from ase.collections import g2"
   ]
  },
  {
   "cell_type": "code",
   "execution_count": 25,
   "id": "f60856fa-5eae-46b4-bab6-b9998f0a9d09",
   "metadata": {},
   "outputs": [
    {
     "name": "stdout",
     "output_type": "stream",
     "text": [
      "['PH3', 'P2', 'CH3CHO', 'H2COH', 'CS', 'OCHCHO', 'C3H9C', 'CH3COF', 'CH3CH2OCH3', 'HCOOH', 'HCCl3', 'HOCl', 'H2', 'SH2', 'C2H2', 'C4H4NH', 'CH3SCH3', 'SiH2_s3B1d', 'CH3SH', 'CH3CO', 'CO', 'ClF3', 'SiH4', 'C2H6CHOH', 'CH2NHCH2', 'isobutene', 'HCO', 'bicyclobutane', 'LiF', 'Si', 'C2H6', 'CN', 'ClNO', 'S', 'SiF4', 'H3CNH2', 'methylenecyclopropane', 'CH3CH2OH', 'F', 'NaCl', 'CH3Cl', 'CH3SiH3', 'AlF3', 'C2H3', 'ClF', 'PF3', 'PH2', 'CH3CN', 'cyclobutene', 'CH3ONO', 'SiH3', 'C3H6_D3h', 'CO2', 'NO', 'trans-butane', 'H2CCHCl', 'LiH', 'NH2', 'CH', 'CH2OCH2', 'C6H6', 'CH3CONH2', 'cyclobutane', 'H2CCHCN', 'butadiene', 'C', 'H2CO', 'CH3COOH', 'HCF3', 'CH3S', 'CS2', 'SiH2_s1A1d', 'C4H4S', 'N2H4', 'OH', 'CH3OCH3', 'C5H5N', 'H2O', 'HCl', 'CH2_s1A1d', 'CH3CH2SH', 'CH3NO2', 'Cl', 'Be', 'BCl3', 'C4H4O', 'Al', 'CH3O', 'CH3OH', 'C3H7Cl', 'isobutane', 'Na', 'CCl4', 'CH3CH2O', 'H2CCHF', 'C3H7', 'CH3', 'O3', 'P', 'C2H4', 'NCCN', 'S2', 'AlCl3', 'SiCl4', 'SiO', 'C3H4_D2d', 'H', 'COF2', '2-butyne', 'C2H5', 'BF3', 'N2O', 'F2O', 'SO2', 'H2CCl2', 'CF3CN', 'HCN', 'C2H6NH', 'OCS', 'B', 'ClO', 'C3H8', 'HF', 'O2', 'SO', 'NH', 'C2F4', 'NF3', 'CH2_s3B1d', 'CH3CH2Cl', 'CH3COCl', 'NH3', 'C3H9N', 'CF4', 'C3H6_Cs', 'Si2H6', 'HCOOCH3', 'O', 'CCH', 'N', 'Si2', 'C2H6SO', 'C5H8', 'H2CF2', 'Li2', 'CH2SCH2', 'C2Cl4', 'C3H4_C3v', 'CH3COCH3', 'F2', 'CH4', 'SH', 'H2CCO', 'CH3CH2NH2', 'Li', 'N2', 'Cl2', 'H2O2', 'Na2', 'BeH', 'C3H4_C2v', 'NO2']\n"
     ]
    }
   ],
   "source": [
    "print(g2.names)"
   ]
  },
  {
   "cell_type": "code",
   "execution_count": 27,
   "id": "f6a3d7fc-6328-48af-a79c-3265032b59b1",
   "metadata": {},
   "outputs": [
    {
     "data": {
      "text/plain": [
       "True"
      ]
     },
     "execution_count": 27,
     "metadata": {},
     "output_type": "execute_result"
    }
   ],
   "source": [
    "\"H2O\" in g2.names"
   ]
  },
  {
   "cell_type": "code",
   "execution_count": 28,
   "id": "c90e44ce-dfeb-47b1-aed4-c317d79620cd",
   "metadata": {},
   "outputs": [
    {
     "data": {
      "text/plain": [
       "<Popen: returncode: None args: ['/home/mariano/Progetti/tesi-magistrale/.ven...>"
      ]
     },
     "execution_count": 28,
     "metadata": {},
     "output_type": "execute_result"
    }
   ],
   "source": [
    "atoms = g2[\"CH3CH2OH\"]\n",
    "view(atoms)"
   ]
  },
  {
   "cell_type": "code",
   "execution_count": 29,
   "id": "fe322f11-1abb-4d59-99ce-45fcce9db70f",
   "metadata": {},
   "outputs": [
    {
     "data": {
      "text/plain": [
       "<Popen: returncode: None args: ['/home/mariano/Progetti/tesi-magistrale/.ven...>"
      ]
     },
     "execution_count": 29,
     "metadata": {},
     "output_type": "execute_result"
    }
   ],
   "source": [
    "view(g2)"
   ]
  }
 ],
 "metadata": {
  "kernelspec": {
   "display_name": "Python 3 (ipykernel)",
   "language": "python",
   "name": "python3"
  },
  "language_info": {
   "codemirror_mode": {
    "name": "ipython",
    "version": 3
   },
   "file_extension": ".py",
   "mimetype": "text/x-python",
   "name": "python",
   "nbconvert_exporter": "python",
   "pygments_lexer": "ipython3",
   "version": "3.11.6"
  }
 },
 "nbformat": 4,
 "nbformat_minor": 5
}
