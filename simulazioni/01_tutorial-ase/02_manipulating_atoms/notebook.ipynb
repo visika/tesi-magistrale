{
 "cells": [
  {
   "cell_type": "markdown",
   "id": "43d57432-1052-4a45-b83f-468f9755eeb9",
   "metadata": {},
   "source": [
    "https://wiki.fysik.dtu.dk/ase/gettingstarted/manipulating_atoms/manipulating_atoms.html"
   ]
  },
  {
   "cell_type": "markdown",
   "id": "d3327c55-20c0-4c13-aa26-524b880d8a8b",
   "metadata": {},
   "source": [
    "## Ag adatom on Ni slab"
   ]
  },
  {
   "cell_type": "code",
   "execution_count": 13,
   "id": "5c72fb4b-6710-43cf-b816-470a44d6152d",
   "metadata": {},
   "outputs": [],
   "source": [
    "from math import sqrt\n",
    "import numpy as np"
   ]
  },
  {
   "cell_type": "code",
   "execution_count": 2,
   "id": "73e3e5b9-656a-47a6-b78d-a0c23ab50220",
   "metadata": {},
   "outputs": [],
   "source": [
    "from ase import Atoms"
   ]
  },
  {
   "cell_type": "code",
   "execution_count": 3,
   "id": "f7ce9dea-2bc5-4215-951e-5f7b2b2a3bfe",
   "metadata": {},
   "outputs": [],
   "source": [
    "a = 3.55"
   ]
  },
  {
   "cell_type": "code",
   "execution_count": 4,
   "id": "35cb5316-3085-44c2-ac2e-5e320f0f092d",
   "metadata": {},
   "outputs": [],
   "source": [
    "atoms = Atoms(\n",
    "    \"Ni4\",\n",
    "    cell=[sqrt(2) * a, sqrt(2) * a, 1.0, 90, 90, 120],\n",
    "    pbc=(1, 1, 0),\n",
    "    scaled_positions=[\n",
    "        (0, 0, 0),\n",
    "        (0.5, 0, 0),\n",
    "        (0, 0.5, 0),\n",
    "        (0.5, 0.5, 0)\n",
    "    ]\n",
    ")\n",
    "\n",
    "atoms.center(vacuum=5.0, axis=2)"
   ]
  },
  {
   "cell_type": "code",
   "execution_count": 5,
   "id": "ca4a7341-f32e-4dc8-bb05-8b177aa50fee",
   "metadata": {},
   "outputs": [
    {
     "data": {
      "text/plain": [
       "Cell([[5.020458146424487, 0.0, 0.0], [-2.5102290732122423, 4.347844293440141, 0.0], [0.0, 0.0, 10.0]])"
      ]
     },
     "execution_count": 5,
     "metadata": {},
     "output_type": "execute_result"
    }
   ],
   "source": [
    "atoms.cell"
   ]
  },
  {
   "cell_type": "code",
   "execution_count": 6,
   "id": "303a926d-9066-446f-b217-d0b3a78a3639",
   "metadata": {},
   "outputs": [
    {
     "data": {
      "text/plain": [
       "array([[ 0.        ,  0.        ,  5.        ],\n",
       "       [ 2.51022907,  0.        ,  5.        ],\n",
       "       [-1.25511454,  2.17392215,  5.        ],\n",
       "       [ 1.25511454,  2.17392215,  5.        ]])"
      ]
     },
     "execution_count": 6,
     "metadata": {},
     "output_type": "execute_result"
    }
   ],
   "source": [
    "atoms.positions"
   ]
  },
  {
   "cell_type": "code",
   "execution_count": 7,
   "id": "da8b9a32-11e8-4104-9b4a-47bf35576253",
   "metadata": {},
   "outputs": [
    {
     "data": {
      "text/plain": [
       "Atom('Ni', [0.0, 0.0, 5.0], index=0)"
      ]
     },
     "execution_count": 7,
     "metadata": {},
     "output_type": "execute_result"
    }
   ],
   "source": [
    "atoms[0]"
   ]
  },
  {
   "cell_type": "code",
   "execution_count": 11,
   "id": "f1077cba-dc57-4a51-a694-96809af50d2c",
   "metadata": {},
   "outputs": [
    {
     "data": {
      "text/plain": [
       "<Popen: returncode: None args: ['/home/mariano/Progetti/tesi-magistrale/.ven...>"
      ]
     },
     "execution_count": 11,
     "metadata": {},
     "output_type": "execute_result"
    }
   ],
   "source": [
    "from ase.visualize import view\n",
    "# pacman -S tk\n",
    "atoms.write(\"slab.xyz\")\n",
    "view(atoms)"
   ]
  },
  {
   "cell_type": "code",
   "execution_count": 14,
   "id": "de1130a3-2327-41f2-ac87-ce37a01896e5",
   "metadata": {},
   "outputs": [],
   "source": [
    "h = 1.9\n",
    "relative = (1/6, 1/6, 0.5)\n",
    "absolute = np.dot(relative, atoms.cell) + (0, 0, h)"
   ]
  },
  {
   "cell_type": "code",
   "execution_count": 15,
   "id": "4c94b531-b573-4204-a02f-a33e9d9f8d92",
   "metadata": {},
   "outputs": [],
   "source": [
    "atoms.append(\"Ag\")"
   ]
  },
  {
   "cell_type": "code",
   "execution_count": 16,
   "id": "daa60f31-4800-434b-98d5-83a84f42cd19",
   "metadata": {},
   "outputs": [
    {
     "data": {
      "text/plain": [
       "<Popen: returncode: None args: ['/home/mariano/Progetti/tesi-magistrale/.ven...>"
      ]
     },
     "execution_count": 16,
     "metadata": {},
     "output_type": "execute_result"
    }
   ],
   "source": [
    "view(atoms)"
   ]
  },
  {
   "cell_type": "code",
   "execution_count": 17,
   "id": "240a2443-0351-4b97-b0e5-1861cace6594",
   "metadata": {},
   "outputs": [],
   "source": [
    "atoms.positions[-1] = absolute"
   ]
  },
  {
   "cell_type": "code",
   "execution_count": 19,
   "id": "cd970933-3afd-426f-b183-baf9d2cf90d4",
   "metadata": {},
   "outputs": [
    {
     "data": {
      "text/plain": [
       "<Popen: returncode: None args: ['/home/mariano/Progetti/tesi-magistrale/.ven...>"
      ]
     },
     "execution_count": 19,
     "metadata": {},
     "output_type": "execute_result"
    }
   ],
   "source": [
    "view(atoms)"
   ]
  },
  {
   "cell_type": "markdown",
   "id": "b6828c89-95ec-471e-beb2-22915a60c024",
   "metadata": {},
   "source": [
    "## Interface building"
   ]
  },
  {
   "cell_type": "markdown",
   "id": "b6ac9d00-455e-4ce0-a327-95ba8681e74e",
   "metadata": {},
   "source": [
    "Usiamo lo script `WL.py` per generare uno strato d'acqua nel file `WL.traj`."
   ]
  },
  {
   "cell_type": "code",
   "execution_count": 20,
   "id": "1fc9b104-58fd-4d1d-b2ac-382fed1d654e",
   "metadata": {},
   "outputs": [],
   "source": [
    "!python WL.py"
   ]
  },
  {
   "cell_type": "code",
   "execution_count": 21,
   "id": "445185c8-6f16-425d-98c2-711ee2bd73e7",
   "metadata": {},
   "outputs": [],
   "source": [
    "from ase.io import read\n",
    "W = read(\"WL.traj\")"
   ]
  },
  {
   "cell_type": "code",
   "execution_count": 22,
   "id": "8c58ce0f-b88a-448f-846d-bf8d76b5e8ef",
   "metadata": {},
   "outputs": [
    {
     "data": {
      "text/plain": [
       "<Popen: returncode: None args: ['/home/mariano/Progetti/tesi-magistrale/.ven...>"
      ]
     },
     "execution_count": 22,
     "metadata": {},
     "output_type": "execute_result"
    }
   ],
   "source": [
    "view(W)"
   ]
  },
  {
   "cell_type": "code",
   "execution_count": 23,
   "id": "f57533b9-5d3b-4d01-b21d-68b69e3c6db4",
   "metadata": {},
   "outputs": [
    {
     "data": {
      "text/plain": [
       "Cell([8.490373, 4.901919, 26.93236])"
      ]
     },
     "execution_count": 23,
     "metadata": {},
     "output_type": "execute_result"
    }
   ],
   "source": [
    "W.cell"
   ]
  },
  {
   "cell_type": "code",
   "execution_count": 24,
   "id": "2a41ba71-c4e7-4cd7-b936-26d7febba104",
   "metadata": {},
   "outputs": [],
   "source": [
    "from ase.build import fcc111\n",
    "slab = fcc111(\n",
    "    \"Ni\",\n",
    "    size=[2, 4, 3],\n",
    "    a=3.55,\n",
    "    orthogonal=True\n",
    ")"
   ]
  },
  {
   "cell_type": "code",
   "execution_count": 25,
   "id": "573da70f-f9ae-4de8-af3d-3f7386bbe487",
   "metadata": {},
   "outputs": [
    {
     "data": {
      "text/plain": [
       "<Popen: returncode: None args: ['/home/mariano/Progetti/tesi-magistrale/.ven...>"
      ]
     },
     "execution_count": 25,
     "metadata": {},
     "output_type": "execute_result"
    }
   ],
   "source": [
    "view(slab)"
   ]
  },
  {
   "cell_type": "code",
   "execution_count": 26,
   "id": "83c968c3-5e8b-421b-9e88-3ff3cc8a7e62",
   "metadata": {},
   "outputs": [
    {
     "data": {
      "text/plain": [
       "Cell([5.020458146424487, 8.695688586880282, 0.0])"
      ]
     },
     "execution_count": 26,
     "metadata": {},
     "output_type": "execute_result"
    }
   ],
   "source": [
    "slab.cell"
   ]
  },
  {
   "cell_type": "code",
   "execution_count": 27,
   "id": "c7c7b1c5-9f00-4a8d-a9a2-552a0add31ab",
   "metadata": {},
   "outputs": [],
   "source": [
    "W.cell = [W.cell[1, 1], W.cell[0, 0], 0.0]"
   ]
  },
  {
   "cell_type": "code",
   "execution_count": 28,
   "id": "440c6710-14a5-4bac-81df-a99b85dcb6e9",
   "metadata": {},
   "outputs": [
    {
     "data": {
      "text/plain": [
       "<Popen: returncode: None args: ['/home/mariano/Progetti/tesi-magistrale/.ven...>"
      ]
     },
     "execution_count": 28,
     "metadata": {},
     "output_type": "execute_result"
    }
   ],
   "source": [
    "view(W)"
   ]
  },
  {
   "cell_type": "code",
   "execution_count": 29,
   "id": "d6b92f1c-323d-4b75-8d0b-11ab2e195232",
   "metadata": {},
   "outputs": [],
   "source": [
    "W.rotate(90, \"z\", center=(0, 0, 0))"
   ]
  },
  {
   "cell_type": "code",
   "execution_count": 30,
   "id": "8206e8dc-65c3-4a9b-82c3-1823d0df2155",
   "metadata": {},
   "outputs": [
    {
     "data": {
      "text/plain": [
       "<Popen: returncode: None args: ['/home/mariano/Progetti/tesi-magistrale/.ven...>"
      ]
     },
     "execution_count": 30,
     "metadata": {},
     "output_type": "execute_result"
    }
   ],
   "source": [
    "view(W)"
   ]
  },
  {
   "cell_type": "code",
   "execution_count": 31,
   "id": "0f374a47-2e1d-4e9f-a723-67a6dc283925",
   "metadata": {},
   "outputs": [],
   "source": [
    "W.wrap()"
   ]
  },
  {
   "cell_type": "code",
   "execution_count": 32,
   "id": "fd1fe3fc-858d-4c78-8a35-5092266aa373",
   "metadata": {},
   "outputs": [
    {
     "data": {
      "text/plain": [
       "<Popen: returncode: None args: ['/home/mariano/Progetti/tesi-magistrale/.ven...>"
      ]
     },
     "execution_count": 32,
     "metadata": {},
     "output_type": "execute_result"
    }
   ],
   "source": [
    "view(W)"
   ]
  },
  {
   "cell_type": "code",
   "execution_count": 33,
   "id": "6acaf0c1-0b06-4053-b8c8-82f2839f6168",
   "metadata": {},
   "outputs": [],
   "source": [
    "W.set_cell(slab.cell, scale_atoms=True)\n",
    "zmin = W.positions[:, 2].min()\n",
    "zmax = slab.positions[:, 2].max()\n",
    "W.positions += (0, 0, zmax - zmin + 1.5)"
   ]
  },
  {
   "cell_type": "code",
   "execution_count": 34,
   "id": "71c8b02a-2338-49a3-8991-dbf2a97083a1",
   "metadata": {},
   "outputs": [],
   "source": [
    "interface = slab + W\n",
    "interface.center(vacuum=6, axis=2)\n",
    "interface.write(\"NiH20.traj\")"
   ]
  },
  {
   "cell_type": "code",
   "execution_count": 35,
   "id": "48be7a92-6716-42c2-b6bc-3231c0410347",
   "metadata": {},
   "outputs": [
    {
     "data": {
      "text/plain": [
       "<Popen: returncode: None args: ['/home/mariano/Progetti/tesi-magistrale/.ven...>"
      ]
     },
     "execution_count": 35,
     "metadata": {},
     "output_type": "execute_result"
    }
   ],
   "source": [
    "view(interface)"
   ]
  }
 ],
 "metadata": {
  "kernelspec": {
   "display_name": "Python 3 (ipykernel)",
   "language": "python",
   "name": "python3"
  },
  "language_info": {
   "codemirror_mode": {
    "name": "ipython",
    "version": 3
   },
   "file_extension": ".py",
   "mimetype": "text/x-python",
   "name": "python",
   "nbconvert_exporter": "python",
   "pygments_lexer": "ipython3",
   "version": "3.11.6"
  }
 },
 "nbformat": 4,
 "nbformat_minor": 5
}
