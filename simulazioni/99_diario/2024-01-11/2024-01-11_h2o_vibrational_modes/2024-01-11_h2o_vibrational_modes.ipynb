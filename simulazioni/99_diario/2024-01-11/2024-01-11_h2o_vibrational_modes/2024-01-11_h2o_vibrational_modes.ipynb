{
 "cells": [
  {
   "cell_type": "code",
   "execution_count": 4,
   "id": "bfb5dd0e-f393-4ca3-97b7-3450e822a8fc",
   "metadata": {},
   "outputs": [],
   "source": [
    "from math import sin, cos, pi\n",
    "from ase import Atoms\n",
    "from ase.optimize import QuasiNewton\n",
    "from ase.vibrations import Vibrations\n",
    "from gpaw import GPAW"
   ]
  },
  {
   "cell_type": "markdown",
   "id": "2ff840b1-991e-4eec-9aea-286911c5a09c",
   "metadata": {},
   "source": [
    "# Water molecule"
   ]
  },
  {
   "cell_type": "code",
   "execution_count": 5,
   "id": "80a42204-9740-4da2-8850-5976b07db896",
   "metadata": {},
   "outputs": [],
   "source": [
    "d = 0.9575\n",
    "t = pi / 180 * 104.51"
   ]
  },
  {
   "cell_type": "code",
   "execution_count": 6,
   "id": "a3ee4fd3-3f8b-450b-8bc8-f04e11f31d14",
   "metadata": {},
   "outputs": [],
   "source": [
    "h2o = Atoms(\n",
    "    \"H2O\",\n",
    "    positions=[\n",
    "        (0, 0, 0),\n",
    "        (d, 0, 0),\n",
    "        (d * cos(t), d * sin(t), 0)\n",
    "    ]\n",
    ")\n",
    "h2o.center(vacuum=3.5)\n",
    "h2o.calc = GPAW(\n",
    "    txt=\"h2o.txt\",\n",
    "    mode=\"lcao\",\n",
    "    basis=\"dzp\",\n",
    "    symmetry=\"off\"\n",
    ")"
   ]
  },
  {
   "cell_type": "code",
   "execution_count": 7,
   "id": "eb5f68ae-50a9-4405-aa04-841598b2dcdc",
   "metadata": {},
   "outputs": [
    {
     "name": "stdout",
     "output_type": "stream",
     "text": [
      "                Step[ FC]     Time          Energy          fmax\n",
      "*Force-consistent energies used in optimization.\n",
      "BFGSLineSearch:    0[  0] 01:21:12       -9.313801*       5.8622\n",
      "BFGSLineSearch:    1[  1] 01:21:14      -10.846138*       7.7659\n",
      "BFGSLineSearch:    2[  2] 01:21:16      -12.601781*       7.3392\n",
      "BFGSLineSearch:    3[  3] 01:21:18      -13.334419*       4.4396\n",
      "BFGSLineSearch:    4[  5] 01:21:22      -13.505857*       2.8911\n",
      "BFGSLineSearch:    5[  7] 01:21:25      -13.704775*       1.0850\n",
      "BFGSLineSearch:    6[  9] 01:21:27      -13.719613*       0.1253\n",
      "BFGSLineSearch:    7[ 10] 01:21:29      -13.719917*       0.0452\n"
     ]
    },
    {
     "data": {
      "text/plain": [
       "True"
      ]
     },
     "execution_count": 7,
     "metadata": {},
     "output_type": "execute_result"
    }
   ],
   "source": [
    "QuasiNewton(h2o).run(fmax=0.05)"
   ]
  },
  {
   "cell_type": "markdown",
   "id": "267eb711-985d-4923-aa8d-7e094f2c9409",
   "metadata": {},
   "source": [
    "# Calculate the vibrational modes of a $\\ce{H2O}$ molecule"
   ]
  },
  {
   "cell_type": "markdown",
   "id": "0947be76-2529-4798-9507-402ea11b9c19",
   "metadata": {},
   "source": [
    "## Create vibrational calculator"
   ]
  },
  {
   "cell_type": "code",
   "execution_count": 8,
   "id": "fa0a9707-eede-44b7-9192-73d4d7591731",
   "metadata": {},
   "outputs": [
    {
     "name": "stdout",
     "output_type": "stream",
     "text": [
      "---------------------\n",
      "  #    meV     cm^-1\n",
      "---------------------\n",
      "  0   29.3i    236.0i\n",
      "  1   12.5i    100.7i\n",
      "  2    9.8      79.4\n",
      "  3   17.9     144.2\n",
      "  4   27.7     223.1\n",
      "  5   35.2     283.9\n",
      "  6  193.1    1557.6\n",
      "  7  451.8    3643.8\n",
      "  8  466.1    3759.4\n",
      "---------------------\n",
      "Zero-point energy: 0.601 eV\n"
     ]
    }
   ],
   "source": [
    "vib = Vibrations(h2o)\n",
    "vib.run()\n",
    "vib.summary(method=\"frederiksen\")"
   ]
  },
  {
   "cell_type": "markdown",
   "id": "86754b7b-e3a7-44dd-89f7-cf3a436bcec6",
   "metadata": {},
   "source": [
    "## Make trajectory files to visualize normal modes"
   ]
  },
  {
   "cell_type": "code",
   "execution_count": 13,
   "id": "c50f9398-bd77-44e6-9d7b-7bc93986c0d5",
   "metadata": {},
   "outputs": [],
   "source": [
    "for i_mode in range(9):\n",
    "    vib.write_mode(i_mode)"
   ]
  },
  {
   "cell_type": "code",
   "execution_count": null,
   "id": "3e2c227e-3a10-4efb-8b16-9eaeb75804fb",
   "metadata": {},
   "outputs": [],
   "source": []
  }
 ],
 "metadata": {
  "kernelspec": {
   "display_name": "Python 3 (ipykernel)",
   "language": "python",
   "name": "python3"
  },
  "language_info": {
   "codemirror_mode": {
    "name": "ipython",
    "version": 3
   },
   "file_extension": ".py",
   "mimetype": "text/x-python",
   "name": "python",
   "nbconvert_exporter": "python",
   "pygments_lexer": "ipython3",
   "version": "3.11.6"
  }
 },
 "nbformat": 4,
 "nbformat_minor": 5
}
